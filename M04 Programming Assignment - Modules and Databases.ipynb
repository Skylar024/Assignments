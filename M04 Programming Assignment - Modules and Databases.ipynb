{
 "cells": [
  {
   "cell_type": "markdown",
   "id": "75eb9257-d843-4421-a481-fb7044cdae12",
   "metadata": {},
   "source": [
    "11.1"
   ]
  },
  {
   "cell_type": "code",
   "execution_count": 1,
   "id": "d44ab3d3-366c-451d-900d-80b71e95d614",
   "metadata": {},
   "outputs": [],
   "source": [
    "import zoo"
   ]
  },
  {
   "cell_type": "code",
   "execution_count": 2,
   "id": "b9632315-8d9a-4a56-8419-ed753d5a0082",
   "metadata": {},
   "outputs": [
    {
     "name": "stdout",
     "output_type": "stream",
     "text": [
      "Open 9-5 daily\n"
     ]
    }
   ],
   "source": [
    "zoo.hours()"
   ]
  },
  {
   "cell_type": "markdown",
   "id": "fe66ef64-5075-427b-a2af-169bbd3b31c7",
   "metadata": {},
   "source": [
    "11.2"
   ]
  },
  {
   "cell_type": "code",
   "execution_count": 3,
   "id": "bccafe2f-e578-4da5-be39-a7b869f6424e",
   "metadata": {},
   "outputs": [],
   "source": [
    "import zoo as menagerie"
   ]
  },
  {
   "cell_type": "code",
   "execution_count": 4,
   "id": "c201b6cd-1088-4d71-82f1-260ece4b0dc6",
   "metadata": {},
   "outputs": [
    {
     "name": "stdout",
     "output_type": "stream",
     "text": [
      "Open 9-5 daily\n"
     ]
    }
   ],
   "source": [
    "menagerie.hours()"
   ]
  },
  {
   "cell_type": "markdown",
   "id": "e890eecc-be11-4fe8-8ed9-ba5405bd9db1",
   "metadata": {},
   "source": [
    "16.8"
   ]
  },
  {
   "cell_type": "code",
   "execution_count": 5,
   "id": "2aacdd77-f41a-4e6d-a3e9-1694d4c28595",
   "metadata": {},
   "outputs": [],
   "source": [
    "import sqlite3"
   ]
  },
  {
   "cell_type": "code",
   "execution_count": 6,
   "id": "2eb8ac4b-3a8f-4fa5-af42-f1cde4d58f10",
   "metadata": {},
   "outputs": [],
   "source": [
    "conn = sqlite3.connect('books.db')"
   ]
  },
  {
   "cell_type": "code",
   "execution_count": 7,
   "id": "e4f6eb5b-1dad-4942-9917-5f7b56295bf6",
   "metadata": {},
   "outputs": [],
   "source": [
    "curs = conn.cursor()"
   ]
  },
  {
   "cell_type": "code",
   "execution_count": 8,
   "id": "a79e96a4-436e-4413-bfae-ee161d68af90",
   "metadata": {},
   "outputs": [
    {
     "data": {
      "text/plain": [
       "<sqlite3.Cursor at 0x26818e3a040>"
      ]
     },
     "execution_count": 8,
     "metadata": {},
     "output_type": "execute_result"
    }
   ],
   "source": [
    "curs.execute('''CREATE TABLE books\n",
    "    (title VARCHAR(50) PRIMARY KEY,\n",
    "    author VARCHAR(50),\n",
    "    year INT)''')"
   ]
  },
  {
   "cell_type": "code",
   "execution_count": 11,
   "id": "24f4cd66-1695-49a4-930a-5e79b2eae3db",
   "metadata": {},
   "outputs": [],
   "source": [
    "import csv"
   ]
  },
  {
   "cell_type": "code",
   "execution_count": 16,
   "id": "0a0fc09f-cdf6-4df2-a7b1-16c61e06b9ba",
   "metadata": {},
   "outputs": [],
   "source": [
    "with open('books.csv') as fin:\n",
    "    csvin = csv.reader(fin, delimiter=',')\n",
    "    list = []\n",
    "    for row in csvin:\n",
    "        value = (row[0], row[1], row[2])\n",
    "        list.append(value)\n",
    "\n",
    "\n"
   ]
  },
  {
   "cell_type": "code",
   "execution_count": 29,
   "id": "83187dd1-8c17-40b5-9d48-d2b207946ac9",
   "metadata": {},
   "outputs": [],
   "source": [
    "for row in list:\n",
    "    ins = 'INSERT INTO books (title, author, year) VALUES (?,?,?)'\n",
    "    curs.execute(ins, row)"
   ]
  },
  {
   "cell_type": "code",
   "execution_count": 37,
   "id": "4e143261-a79f-4f96-a1a5-b67d9815ad05",
   "metadata": {},
   "outputs": [],
   "source": [
    "import sqlalchemy as sa"
   ]
  },
  {
   "cell_type": "code",
   "execution_count": 39,
   "id": "f0a1809e-f8c7-49ff-971a-41aff395f22f",
   "metadata": {},
   "outputs": [],
   "source": [
    "conn = sa.create_engine('sqlite://')"
   ]
  },
  {
   "cell_type": "code",
   "execution_count": 44,
   "id": "c07045a5-d0bf-49a3-bcdd-be1a26c64510",
   "metadata": {},
   "outputs": [
    {
     "data": {
      "text/plain": [
       "<sqlite3.Cursor at 0x26818e3a040>"
      ]
     },
     "execution_count": 44,
     "metadata": {},
     "output_type": "execute_result"
    }
   ],
   "source": [
    "curs.execute('SELECT title FROM books ORDER BY title')"
   ]
  },
  {
   "cell_type": "code",
   "execution_count": 45,
   "id": "b7d58544-7a72-4cad-94f8-6ba427cfaa47",
   "metadata": {},
   "outputs": [
    {
     "data": {
      "text/plain": [
       "[('Perdido Street Station',),\n",
       " ('Small Gods',),\n",
       " ('The Spellman Files',),\n",
       " ('The Weirdstone of Brisingamen',),\n",
       " ('Thud!',),\n",
       " ('author',)]"
      ]
     },
     "execution_count": 45,
     "metadata": {},
     "output_type": "execute_result"
    }
   ],
   "source": [
    "curs.fetchall()"
   ]
  },
  {
   "cell_type": "code",
   "execution_count": null,
   "id": "7d5c66bd-2ca9-4a8b-a406-e51318df8d04",
   "metadata": {},
   "outputs": [],
   "source": []
  }
 ],
 "metadata": {
  "kernelspec": {
   "display_name": "Python 3 (ipykernel)",
   "language": "python",
   "name": "python3"
  },
  "language_info": {
   "codemirror_mode": {
    "name": "ipython",
    "version": 3
   },
   "file_extension": ".py",
   "mimetype": "text/x-python",
   "name": "python",
   "nbconvert_exporter": "python",
   "pygments_lexer": "ipython3",
   "version": "3.11.7"
  }
 },
 "nbformat": 4,
 "nbformat_minor": 5
}
