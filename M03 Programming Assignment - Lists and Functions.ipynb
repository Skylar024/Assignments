{
 "cells": [
  {
   "cell_type": "markdown",
   "id": "0ddf03e9-9af9-4e41-b10b-09f2b82e5b1e",
   "metadata": {},
   "source": [
    "7.4"
   ]
  },
  {
   "cell_type": "code",
   "execution_count": 1,
   "id": "00d6c0f5-1c94-4314-81bd-4a00019169c7",
   "metadata": {},
   "outputs": [],
   "source": [
    "things = [\"mozzarella\", \"cinderella\", \"salmonella\"]"
   ]
  },
  {
   "cell_type": "markdown",
   "id": "fb2f177e-627c-4477-a63e-ab5d70bc7799",
   "metadata": {},
   "source": [
    "7.5"
   ]
  },
  {
   "cell_type": "code",
   "execution_count": 3,
   "id": "6966f540-eed4-4f4e-bd6e-932b6102e2fd",
   "metadata": {},
   "outputs": [],
   "source": [
    "things[1] = things[1].upper()"
   ]
  },
  {
   "cell_type": "code",
   "execution_count": 5,
   "id": "e0801f61-41e0-4b9e-928e-6622491943f5",
   "metadata": {},
   "outputs": [
    {
     "name": "stdout",
     "output_type": "stream",
     "text": [
      "CINDERELLA\n"
     ]
    }
   ],
   "source": [
    "print(things[1])"
   ]
  },
  {
   "cell_type": "markdown",
   "id": "b0c4092c-5de0-4fd2-966f-fa9586cee91f",
   "metadata": {},
   "source": [
    "The element itself did not change but the string inside of the element was changed to be all capital letters"
   ]
  },
  {
   "cell_type": "markdown",
   "id": "5ee5b812-b510-4bbe-bb70-c2d000658e19",
   "metadata": {},
   "source": [
    "7.6"
   ]
  },
  {
   "cell_type": "code",
   "execution_count": 6,
   "id": "973d9293-aa35-474d-978c-b6de52fedec2",
   "metadata": {},
   "outputs": [],
   "source": [
    "things[0] = things[0].upper()"
   ]
  },
  {
   "cell_type": "code",
   "execution_count": 7,
   "id": "2712d1a7-b625-4120-b5b5-e4c14a8446d0",
   "metadata": {},
   "outputs": [
    {
     "name": "stdout",
     "output_type": "stream",
     "text": [
      "['MOZZARELLA', 'CINDERELLA', 'salmonella']\n"
     ]
    }
   ],
   "source": [
    "print(things)"
   ]
  },
  {
   "cell_type": "markdown",
   "id": "320f1852-262a-4678-b8fd-69b80cc1720e",
   "metadata": {},
   "source": [
    "7.7"
   ]
  },
  {
   "cell_type": "code",
   "execution_count": 11,
   "id": "dab21e41-84a1-4ac4-ad30-a27be1d1f30c",
   "metadata": {},
   "outputs": [],
   "source": [
    "things.remove(things[2])"
   ]
  },
  {
   "cell_type": "code",
   "execution_count": 12,
   "id": "079cb156-d29a-48ee-8692-5753b7dc0500",
   "metadata": {},
   "outputs": [
    {
     "name": "stdout",
     "output_type": "stream",
     "text": [
      "['MOZZARELLA', 'CINDERELLA']\n"
     ]
    }
   ],
   "source": [
    "print(things)"
   ]
  },
  {
   "cell_type": "markdown",
   "id": "dbf366e5-f063-4d7e-9ac2-4c3613210de1",
   "metadata": {},
   "source": [
    "9.1"
   ]
  },
  {
   "cell_type": "code",
   "execution_count": 13,
   "id": "7bd96aa1-b9a4-4942-a0fe-41d395d0a7f7",
   "metadata": {},
   "outputs": [],
   "source": [
    "def good():\n",
    "    list = ['Harry', 'Ron', 'Hermione']\n",
    "    return list"
   ]
  },
  {
   "cell_type": "code",
   "execution_count": 14,
   "id": "3cdab540-37c5-4c71-afb7-4465998b0581",
   "metadata": {},
   "outputs": [
    {
     "data": {
      "text/plain": [
       "['Harry', 'Ron', 'Hermione']"
      ]
     },
     "execution_count": 14,
     "metadata": {},
     "output_type": "execute_result"
    }
   ],
   "source": [
    "good()"
   ]
  },
  {
   "cell_type": "markdown",
   "id": "d9df5e5c-8253-46d2-b9f4-8daf356db6a5",
   "metadata": {},
   "source": [
    "9.2"
   ]
  },
  {
   "cell_type": "code",
   "execution_count": 40,
   "id": "27e6ee61-08f5-4360-9410-09d292775e12",
   "metadata": {},
   "outputs": [],
   "source": [
    "numList = []\n",
    "def get_odds():\n",
    "    for x in range(10):\n",
    "        if ((x % 2)*2 != 0):\n",
    "            numList.append(x)\n",
    "    return numList"
   ]
  },
  {
   "cell_type": "code",
   "execution_count": 48,
   "id": "337b410a-04fa-4083-9cbe-7e14305488c7",
   "metadata": {},
   "outputs": [
    {
     "name": "stdout",
     "output_type": "stream",
     "text": [
      "[1, 3, 5, 7, 9]\n"
     ]
    }
   ],
   "source": [
    "print(numList)"
   ]
  },
  {
   "cell_type": "code",
   "execution_count": 46,
   "id": "9f87ae3a-1473-46f0-8e59-49ac59b6b44f",
   "metadata": {},
   "outputs": [
    {
     "name": "stdout",
     "output_type": "stream",
     "text": [
      "5\n"
     ]
    }
   ],
   "source": [
    "count = 1\n",
    "for x in (numList):\n",
    "    if (count == 3):\n",
    "        print(x)\n",
    "    count += 1"
   ]
  },
  {
   "cell_type": "code",
   "execution_count": null,
   "id": "e0513be5-2951-439c-8ca9-d4e6235049b5",
   "metadata": {},
   "outputs": [],
   "source": []
  }
 ],
 "metadata": {
  "kernelspec": {
   "display_name": "Python 3 (ipykernel)",
   "language": "python",
   "name": "python3"
  },
  "language_info": {
   "codemirror_mode": {
    "name": "ipython",
    "version": 3
   },
   "file_extension": ".py",
   "mimetype": "text/x-python",
   "name": "python",
   "nbconvert_exporter": "python",
   "pygments_lexer": "ipython3",
   "version": "3.11.7"
  }
 },
 "nbformat": 4,
 "nbformat_minor": 5
}
