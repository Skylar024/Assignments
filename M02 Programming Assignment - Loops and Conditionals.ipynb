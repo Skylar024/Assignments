{
 "cells": [
  {
   "cell_type": "markdown",
   "id": "97b2772a-a56f-4859-a1f4-5ad2ac07b447",
   "metadata": {},
   "source": [
    "4.1"
   ]
  },
  {
   "cell_type": "code",
   "execution_count": 1,
   "id": "7663685e-36a3-4a5c-a387-9fb37dcc5559",
   "metadata": {},
   "outputs": [],
   "source": [
    "secret = 7"
   ]
  },
  {
   "cell_type": "code",
   "execution_count": 2,
   "id": "5fc79d2b-eef6-4254-ade3-f9e38c1c003f",
   "metadata": {},
   "outputs": [],
   "source": [
    "guess = 3"
   ]
  },
  {
   "cell_type": "code",
   "execution_count": 3,
   "id": "c4b9efe0-7f7d-45e9-8857-ba3b4308f492",
   "metadata": {},
   "outputs": [
    {
     "name": "stdout",
     "output_type": "stream",
     "text": [
      "Too Low\n"
     ]
    }
   ],
   "source": [
    "if(guess < secret):\n",
    "    print('Too Low')\n",
    "elif(guess > secret):\n",
    "    print('Too High')\n",
    "else:\n",
    "    print('Just Right')   "
   ]
  },
  {
   "cell_type": "code",
   "execution_count": 4,
   "id": "38f0b634-82d8-4231-8e8f-4f47b1c78756",
   "metadata": {},
   "outputs": [],
   "source": [
    "guess = 8"
   ]
  },
  {
   "cell_type": "code",
   "execution_count": 5,
   "id": "86aaa021-b718-4d26-9965-fff02655d996",
   "metadata": {},
   "outputs": [
    {
     "name": "stdout",
     "output_type": "stream",
     "text": [
      "Too High\n"
     ]
    }
   ],
   "source": [
    "if(guess < secret):\n",
    "    print('Too Low')\n",
    "elif(guess > secret):\n",
    "    print('Too High')\n",
    "else:\n",
    "    print('Just Right') "
   ]
  },
  {
   "cell_type": "code",
   "execution_count": 6,
   "id": "5fc44794-1a65-440c-8603-08cf65db9594",
   "metadata": {},
   "outputs": [],
   "source": [
    "guess = 7"
   ]
  },
  {
   "cell_type": "code",
   "execution_count": 7,
   "id": "25337d04-0c5c-4ccf-b999-b9e595dddde2",
   "metadata": {},
   "outputs": [
    {
     "name": "stdout",
     "output_type": "stream",
     "text": [
      "Just Right\n"
     ]
    }
   ],
   "source": [
    "if(guess < secret):\n",
    "    print('Too Low')\n",
    "elif(guess > secret):\n",
    "    print('Too High')\n",
    "else:\n",
    "    print('Just Right') "
   ]
  },
  {
   "cell_type": "markdown",
   "id": "273c96aa-ceaf-48b2-815c-a097c332f2e6",
   "metadata": {},
   "source": [
    "4.2"
   ]
  },
  {
   "cell_type": "code",
   "execution_count": 14,
   "id": "40e06124-2ea8-44c3-87b2-839262251a8c",
   "metadata": {},
   "outputs": [
    {
     "name": "stdout",
     "output_type": "stream",
     "text": [
      "Pea\n"
     ]
    }
   ],
   "source": [
    "small = True\n",
    "green = True\n",
    "if small:\n",
    "    if green:\n",
    "        print(\"Pea\")\n",
    "    else:\n",
    "        print(\"Cherry\")\n",
    "else:\n",
    "    if green:\n",
    "        print(\"Watermelon\")\n",
    "    else:\n",
    "        print(\"Pumpkin\")"
   ]
  },
  {
   "cell_type": "code",
   "execution_count": 15,
   "id": "3b370312-fdd5-40e5-b3d9-ac7008ae4778",
   "metadata": {},
   "outputs": [
    {
     "name": "stdout",
     "output_type": "stream",
     "text": [
      "Watermelon\n"
     ]
    }
   ],
   "source": [
    "small = False\n",
    "green = True\n",
    "if small:\n",
    "    if green:\n",
    "        print(\"Pea\")\n",
    "    else:\n",
    "        print(\"Cherry\")\n",
    "else:\n",
    "    if green:\n",
    "        print(\"Watermelon\")\n",
    "    else:\n",
    "        print(\"Pumpkin\")"
   ]
  },
  {
   "cell_type": "code",
   "execution_count": 16,
   "id": "38ed665e-0583-4be0-8594-9c45cc1aae6f",
   "metadata": {},
   "outputs": [
    {
     "name": "stdout",
     "output_type": "stream",
     "text": [
      "Cherry\n"
     ]
    }
   ],
   "source": [
    "small = True\n",
    "green = False\n",
    "if small:\n",
    "    if green:\n",
    "        print(\"Pea\")\n",
    "    else:\n",
    "        print(\"Cherry\")\n",
    "else:\n",
    "    if green:\n",
    "        print(\"Watermelon\")\n",
    "    else:\n",
    "        print(\"Pumpkin\")"
   ]
  },
  {
   "cell_type": "code",
   "execution_count": 17,
   "id": "8b71177e-3959-464a-85d7-c949735533f4",
   "metadata": {},
   "outputs": [
    {
     "name": "stdout",
     "output_type": "stream",
     "text": [
      "Pumpkin\n"
     ]
    }
   ],
   "source": [
    "small = False\n",
    "green = False\n",
    "if small:\n",
    "    if green:\n",
    "        print(\"Pea\")\n",
    "    else:\n",
    "        print(\"Cherry\")\n",
    "else:\n",
    "    if green:\n",
    "        print(\"Watermelon\")\n",
    "    else:\n",
    "        print(\"Pumpkin\")"
   ]
  },
  {
   "cell_type": "markdown",
   "id": "a3584752-d43f-40be-bec4-ee47fce2eccd",
   "metadata": {},
   "source": [
    "6.1"
   ]
  },
  {
   "cell_type": "code",
   "execution_count": 18,
   "id": "974c722e-38e9-4321-9d9a-ce16a3a4c52b",
   "metadata": {},
   "outputs": [
    {
     "name": "stdout",
     "output_type": "stream",
     "text": [
      "3\n",
      "2\n",
      "1\n",
      "0\n"
     ]
    }
   ],
   "source": [
    "list = [3,2,1,0]\n",
    "for x in list:\n",
    "    print(x)"
   ]
  },
  {
   "cell_type": "markdown",
   "id": "291511b2-14d9-4410-901c-7bb8e596b379",
   "metadata": {},
   "source": [
    "6.2"
   ]
  },
  {
   "cell_type": "code",
   "execution_count": 25,
   "id": "375fe21b-609f-4741-9473-6d6b8f4d98a0",
   "metadata": {},
   "outputs": [
    {
     "name": "stdout",
     "output_type": "stream",
     "text": [
      "Too Low\n",
      "Too Low\n",
      "Too Low\n",
      "Too Low\n",
      "Too Low\n",
      "Too Low\n",
      "Found It!\n"
     ]
    }
   ],
   "source": [
    "guess_me = 7 \n",
    "number = 1\n",
    "while(number < guess_me):\n",
    "    if(number < guess_me):\n",
    "        print('Too Low')\n",
    "    elif(number > guess_me):\n",
    "        print('oops')\n",
    "    number += 1\n",
    "print('Found It!')"
   ]
  },
  {
   "cell_type": "markdown",
   "id": "28828152-bfcb-48fb-8d4c-8e4e97d0c8e8",
   "metadata": {},
   "source": [
    "6.3"
   ]
  },
  {
   "cell_type": "code",
   "execution_count": 26,
   "id": "5199a5ea-bc13-4fdf-a1fb-727f557f6190",
   "metadata": {},
   "outputs": [
    {
     "name": "stdout",
     "output_type": "stream",
     "text": [
      "Too Low\n",
      "Too Low\n",
      "Too Low\n",
      "Too Low\n",
      "Too Low\n",
      "Found It!\n"
     ]
    }
   ],
   "source": [
    "guess_me = 5\n",
    "for number in range(10):\n",
    "    if(number < guess_me):\n",
    "        print('Too Low')\n",
    "    elif(number == guess_me):\n",
    "        print(\"Found It!\")\n",
    "        break\n",
    "    elif(number > guess_me):\n",
    "        print(\"oops\")\n",
    "        break"
   ]
  },
  {
   "cell_type": "code",
   "execution_count": null,
   "id": "57e48e1a-95d4-4c34-82c3-db9fc1341f1c",
   "metadata": {},
   "outputs": [],
   "source": []
  }
 ],
 "metadata": {
  "kernelspec": {
   "display_name": "Python 3 (ipykernel)",
   "language": "python",
   "name": "python3"
  },
  "language_info": {
   "codemirror_mode": {
    "name": "ipython",
    "version": 3
   },
   "file_extension": ".py",
   "mimetype": "text/x-python",
   "name": "python",
   "nbconvert_exporter": "python",
   "pygments_lexer": "ipython3",
   "version": "3.11.7"
  }
 },
 "nbformat": 4,
 "nbformat_minor": 5
}
