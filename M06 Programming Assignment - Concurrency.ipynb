{
 "cells": [
  {
   "cell_type": "markdown",
   "id": "4cb01c53-5107-4951-9b37-58984828b267",
   "metadata": {},
   "source": [
    "13.1"
   ]
  },
  {
   "cell_type": "code",
   "execution_count": 3,
   "id": "8c905efd-574d-40a3-99c9-3a8e28125c0f",
   "metadata": {},
   "outputs": [],
   "source": [
    "import time\n",
    "now = time.time()\n",
    "dateAndTime = time.ctime(now)"
   ]
  },
  {
   "cell_type": "code",
   "execution_count": 4,
   "id": "d2b75b17-d456-4156-9598-9312abcbadf9",
   "metadata": {},
   "outputs": [],
   "source": [
    "f = open(\"today.txt\", \"w\")\n",
    "f.write(dateAndTime)\n",
    "f.close()"
   ]
  },
  {
   "cell_type": "code",
   "execution_count": 5,
   "id": "64ccf4dc-6c45-4b81-b72e-90e38a70e89d",
   "metadata": {},
   "outputs": [
    {
     "name": "stdout",
     "output_type": "stream",
     "text": [
      "Sun Apr 28 17:25:34 2024\n"
     ]
    }
   ],
   "source": [
    "f = open(\"today.txt\", \"r\")\n",
    "print(f.read())"
   ]
  },
  {
   "cell_type": "markdown",
   "id": "75d4ee62-4491-430a-9e50-eea56c727ea7",
   "metadata": {},
   "source": [
    "13.2"
   ]
  },
  {
   "cell_type": "code",
   "execution_count": 6,
   "id": "cd95b808-a519-4edc-99b2-b2c268040c63",
   "metadata": {},
   "outputs": [
    {
     "name": "stdout",
     "output_type": "stream",
     "text": [
      "Sun Apr 28 17:25:34 2024\n"
     ]
    }
   ],
   "source": [
    "f = open(\"today.txt\", \"r\")\n",
    "today_string = f.read()\n",
    "print(today_string)"
   ]
  },
  {
   "cell_type": "markdown",
   "id": "198bdd1b-03a2-4cf9-a4e1-7abb5f8cdb4c",
   "metadata": {},
   "source": [
    "13.3"
   ]
  },
  {
   "cell_type": "code",
   "execution_count": 12,
   "id": "20dc1711-e425-49ab-9a2c-c79ef6c789e5",
   "metadata": {},
   "outputs": [
    {
     "name": "stdout",
     "output_type": "stream",
     "text": [
      "Sun Apr 28\n"
     ]
    }
   ],
   "source": [
    "parsed = today_string.split()\n",
    "parsed_date = parsed[0] + \" \" + parsed[1] + \" \" + parsed[2]\n",
    "print(parsed_date)"
   ]
  },
  {
   "cell_type": "markdown",
   "id": "daf1272b-07e3-4b3d-9dc5-97f0171814cd",
   "metadata": {},
   "source": [
    "15.1"
   ]
  },
  {
   "cell_type": "code",
   "execution_count": 35,
   "id": "aa37e582-baee-4fa8-97de-671c93dcc636",
   "metadata": {},
   "outputs": [],
   "source": [
    "import multiprocessing\n",
    "import os\n",
    "import time\n",
    "import random\n",
    "from datetime import datetime\n",
    "\n",
    "def whatTime(what):\n",
    "    str(time.sleep(random.randint(0,1)))\n",
    "    Time = datetime.now()\n",
    "    currentTime = Time.strftime(\"%H:%M:%S\")\n",
    "    print(\"%s: The time is: %s\" % (what, currentTime))\n",
    "\n",
    "if __name__ == \"__main__\":\n",
    "    for x in range(3):\n",
    "        p = multiprocessing.Process(target=whatTime,\n",
    "          args=(\"Process %s\" % x,))\n",
    "        p.start()\n",
    "        time.sleep(3)\n",
    "        p.terminate()"
   ]
  },
  {
   "cell_type": "code",
   "execution_count": 37,
   "id": "d2eefa70-0a40-48fd-8d45-f85b0345ca56",
   "metadata": {},
   "outputs": [
    {
     "name": "stdout",
     "output_type": "stream",
     "text": [
      "The time is: {} 18:42:18\n",
      "The time is: {} 18:42:18\n",
      "The time is: {} 18:42:19\n"
     ]
    }
   ],
   "source": [
    "import multiprocessing\n",
    "import time\n",
    "import random\n",
    "from datetime import datetime\n",
    "\n",
    "def whatTime():\n",
    "    Time = datetime.now()\n",
    "    currentTime = Time.strftime(\"%H:%M:%S\")\n",
    "    print(\"The time is: {}\", currentTime)\n",
    "    time.sleep(random.randint(0,1))\n",
    "\n",
    "if __name__ == \"__main__\":\n",
    "    for x in range(3):\n",
    "        mp = multiprocessing.Process(target=whatTime())\n",
    "        mp.start()"
   ]
  },
  {
   "cell_type": "code",
   "execution_count": null,
   "id": "02eb73ad-ae18-4ae8-80db-fe1bd342ee3e",
   "metadata": {},
   "outputs": [],
   "source": []
  }
 ],
 "metadata": {
  "kernelspec": {
   "display_name": "Python 3 (ipykernel)",
   "language": "python",
   "name": "python3"
  },
  "language_info": {
   "codemirror_mode": {
    "name": "ipython",
    "version": 3
   },
   "file_extension": ".py",
   "mimetype": "text/x-python",
   "name": "python",
   "nbconvert_exporter": "python",
   "pygments_lexer": "ipython3",
   "version": "3.11.7"
  }
 },
 "nbformat": 4,
 "nbformat_minor": 5
}
