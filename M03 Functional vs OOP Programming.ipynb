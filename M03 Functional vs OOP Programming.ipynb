{
 "cells": [
  {
   "cell_type": "code",
   "execution_count": 1,
   "id": "f5ea813b-de98-4c4e-9cc7-dc43c05f2225",
   "metadata": {},
   "outputs": [
    {
     "name": "stdout",
     "output_type": "stream",
     "text": [
      "[0, 0, 1, 2, 2]\n"
     ]
    }
   ],
   "source": [
    "n = 5\n",
    "arr = [0, 2, 1, 2, 0]\n",
    "\n",
    "low = 0\n",
    "point = 0\n",
    "high = n-1\n",
    "\n",
    "while(point <= high):\n",
    "    if(arr[point] == 0):\n",
    "        temp = arr[low]\n",
    "        arr[low] = arr[point]\n",
    "        arr[point] = temp\n",
    "        low += 1\n",
    "        point +=1\n",
    "    elif(arr[point] == 1):\n",
    "        point += 1\n",
    "    elif(arr[point] == 2):\n",
    "        temp = arr[high]\n",
    "        arr[high] = arr[point]\n",
    "        arr[point] = temp\n",
    "        high -= 1\n",
    "print(arr)"
   ]
  },
  {
   "cell_type": "code",
   "execution_count": 2,
   "id": "29ae45de-f8e8-4d33-979f-82308d7702b6",
   "metadata": {},
   "outputs": [
    {
     "name": "stdout",
     "output_type": "stream",
     "text": [
      "3\n"
     ]
    }
   ],
   "source": [
    "n = 5\n",
    "arr = [1,2,3,4,5]\n",
    "k = 4\n",
    "\n",
    "low = 0\n",
    "high = n - 1\n",
    "              \n",
    "while(low <= high):\n",
    "    mid = low + (high - low) // 2\n",
    "    if(k == arr[mid]):\n",
    "        print(mid)\n",
    "        break\n",
    "    elif(k > arr[mid]):\n",
    "        low = mid + 1 \n",
    "    elif(k < arr[mid]):\n",
    "        high = mid - 1    "
   ]
  },
  {
   "cell_type": "code",
   "execution_count": null,
   "id": "c57e848e-1409-4625-ac04-81105c18200e",
   "metadata": {},
   "outputs": [],
   "source": []
  }
 ],
 "metadata": {
  "kernelspec": {
   "display_name": "Python 3 (ipykernel)",
   "language": "python",
   "name": "python3"
  },
  "language_info": {
   "codemirror_mode": {
    "name": "ipython",
    "version": 3
   },
   "file_extension": ".py",
   "mimetype": "text/x-python",
   "name": "python",
   "nbconvert_exporter": "python",
   "pygments_lexer": "ipython3",
   "version": "3.11.7"
  }
 },
 "nbformat": 4,
 "nbformat_minor": 5
}
